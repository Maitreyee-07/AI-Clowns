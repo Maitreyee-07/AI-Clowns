{
 "cells": [
  {
   "cell_type": "code",
   "execution_count": 2,
   "metadata": {},
   "outputs": [
    {
     "name": "stderr",
     "output_type": "stream",
     "text": [
      "C:\\Users\\Dell\\AppData\\Roaming\\Python\\Python310\\site-packages\\pandas\\core\\arrays\\masked.py:60: UserWarning: Pandas requires version '1.3.6' or newer of 'bottleneck' (version '1.3.5' currently installed).\n",
      "  from pandas.core import (\n",
      "C:\\Users\\Dell\\AppData\\Local\\Temp\\ipykernel_940\\555797462.py:1: DeprecationWarning: \n",
      "Pyarrow will become a required dependency of pandas in the next major release of pandas (pandas 3.0),\n",
      "(to allow more performant data types, such as the Arrow string type, and better interoperability with other libraries)\n",
      "but was not found to be installed on your system.\n",
      "If this would cause problems for you,\n",
      "please provide us feedback at https://github.com/pandas-dev/pandas/issues/54466\n",
      "        \n",
      "  import pandas as pd\n"
     ]
    }
   ],
   "source": [
    "import pandas as pd\n",
    "import numpy as np\n",
    "import matplotlib.pyplot as plt\n",
    "import seaborn as sns"
   ]
  },
  {
   "cell_type": "code",
   "execution_count": 3,
   "metadata": {},
   "outputs": [
    {
     "data": {
      "text/html": [
       "<div>\n",
       "<style scoped>\n",
       "    .dataframe tbody tr th:only-of-type {\n",
       "        vertical-align: middle;\n",
       "    }\n",
       "\n",
       "    .dataframe tbody tr th {\n",
       "        vertical-align: top;\n",
       "    }\n",
       "\n",
       "    .dataframe thead th {\n",
       "        text-align: right;\n",
       "    }\n",
       "</style>\n",
       "<table border=\"1\" class=\"dataframe\">\n",
       "  <thead>\n",
       "    <tr style=\"text-align: right;\">\n",
       "      <th></th>\n",
       "      <th>Unnamed: 0</th>\n",
       "      <th>year</th>\n",
       "      <th>month</th>\n",
       "      <th>day</th>\n",
       "      <th>latitude</th>\n",
       "      <th>longitude</th>\n",
       "      <th>zon.winds</th>\n",
       "      <th>mer.winds</th>\n",
       "      <th>humidity</th>\n",
       "      <th>air temp.</th>\n",
       "    </tr>\n",
       "  </thead>\n",
       "  <tbody>\n",
       "    <tr>\n",
       "      <th>0</th>\n",
       "      <td>0</td>\n",
       "      <td>1995</td>\n",
       "      <td>6</td>\n",
       "      <td>22</td>\n",
       "      <td>2.00</td>\n",
       "      <td>165.0</td>\n",
       "      <td>-3.3</td>\n",
       "      <td>-1.9</td>\n",
       "      <td>79.4</td>\n",
       "      <td>28.95</td>\n",
       "    </tr>\n",
       "    <tr>\n",
       "      <th>1</th>\n",
       "      <td>1</td>\n",
       "      <td>1995</td>\n",
       "      <td>1</td>\n",
       "      <td>13</td>\n",
       "      <td>4.99</td>\n",
       "      <td>156.0</td>\n",
       "      <td>-3.5</td>\n",
       "      <td>-2.2</td>\n",
       "      <td>82.0</td>\n",
       "      <td>27.86</td>\n",
       "    </tr>\n",
       "    <tr>\n",
       "      <th>2</th>\n",
       "      <td>2</td>\n",
       "      <td>1995</td>\n",
       "      <td>7</td>\n",
       "      <td>9</td>\n",
       "      <td>-4.97</td>\n",
       "      <td>-125.0</td>\n",
       "      <td>-8.2</td>\n",
       "      <td>1.5</td>\n",
       "      <td>84.2</td>\n",
       "      <td>26.02</td>\n",
       "    </tr>\n",
       "    <tr>\n",
       "      <th>3</th>\n",
       "      <td>3</td>\n",
       "      <td>1996</td>\n",
       "      <td>7</td>\n",
       "      <td>17</td>\n",
       "      <td>8.01</td>\n",
       "      <td>165.0</td>\n",
       "      <td>-5.4</td>\n",
       "      <td>-1.0</td>\n",
       "      <td>84.1</td>\n",
       "      <td>28.38</td>\n",
       "    </tr>\n",
       "    <tr>\n",
       "      <th>4</th>\n",
       "      <td>4</td>\n",
       "      <td>1993</td>\n",
       "      <td>8</td>\n",
       "      <td>23</td>\n",
       "      <td>2.06</td>\n",
       "      <td>165.0</td>\n",
       "      <td>2.0</td>\n",
       "      <td>0.6</td>\n",
       "      <td>75.4</td>\n",
       "      <td>28.47</td>\n",
       "    </tr>\n",
       "  </tbody>\n",
       "</table>\n",
       "</div>"
      ],
      "text/plain": [
       "   Unnamed: 0  year  month  day  latitude  longitude  zon.winds  mer.winds  \\\n",
       "0           0  1995      6   22      2.00      165.0       -3.3       -1.9   \n",
       "1           1  1995      1   13      4.99      156.0       -3.5       -2.2   \n",
       "2           2  1995      7    9     -4.97     -125.0       -8.2        1.5   \n",
       "3           3  1996      7   17      8.01      165.0       -5.4       -1.0   \n",
       "4           4  1993      8   23      2.06      165.0        2.0        0.6   \n",
       "\n",
       "   humidity  air temp.  \n",
       "0      79.4      28.95  \n",
       "1      82.0      27.86  \n",
       "2      84.2      26.02  \n",
       "3      84.1      28.38  \n",
       "4      75.4      28.47  "
      ]
     },
     "execution_count": 3,
     "metadata": {},
     "output_type": "execute_result"
    }
   ],
   "source": [
    "df=pd.read_csv('evaluation.csv')\n",
    "df.head()"
   ]
  },
  {
   "cell_type": "code",
   "execution_count": 4,
   "metadata": {},
   "outputs": [
    {
     "data": {
      "text/plain": [
       "Unnamed: 0       0\n",
       "year             0\n",
       "month            0\n",
       "day              0\n",
       "latitude         0\n",
       "longitude        0\n",
       "zon.winds     3683\n",
       "mer.winds     3683\n",
       "humidity      9738\n",
       "air temp.     2047\n",
       "dtype: int64"
      ]
     },
     "execution_count": 4,
     "metadata": {},
     "output_type": "execute_result"
    }
   ],
   "source": [
    "df.isnull().sum()"
   ]
  },
  {
   "cell_type": "code",
   "execution_count": 5,
   "metadata": {},
   "outputs": [
    {
     "data": {
      "text/html": [
       "<div>\n",
       "<style scoped>\n",
       "    .dataframe tbody tr th:only-of-type {\n",
       "        vertical-align: middle;\n",
       "    }\n",
       "\n",
       "    .dataframe tbody tr th {\n",
       "        vertical-align: top;\n",
       "    }\n",
       "\n",
       "    .dataframe thead th {\n",
       "        text-align: right;\n",
       "    }\n",
       "</style>\n",
       "<table border=\"1\" class=\"dataframe\">\n",
       "  <thead>\n",
       "    <tr style=\"text-align: right;\">\n",
       "      <th></th>\n",
       "      <th>Unnamed: 0</th>\n",
       "      <th>year</th>\n",
       "      <th>month</th>\n",
       "      <th>day</th>\n",
       "      <th>latitude</th>\n",
       "      <th>longitude</th>\n",
       "      <th>zon.winds</th>\n",
       "      <th>mer.winds</th>\n",
       "      <th>humidity</th>\n",
       "      <th>air temp.</th>\n",
       "      <th>date</th>\n",
       "    </tr>\n",
       "  </thead>\n",
       "  <tbody>\n",
       "    <tr>\n",
       "      <th>0</th>\n",
       "      <td>4951</td>\n",
       "      <td>1980</td>\n",
       "      <td>3</td>\n",
       "      <td>7</td>\n",
       "      <td>-0.02</td>\n",
       "      <td>-109.44</td>\n",
       "      <td>-6.8</td>\n",
       "      <td>0.7</td>\n",
       "      <td>NaN</td>\n",
       "      <td>26.14</td>\n",
       "      <td>1980-03-07</td>\n",
       "    </tr>\n",
       "    <tr>\n",
       "      <th>1</th>\n",
       "      <td>16738</td>\n",
       "      <td>1980</td>\n",
       "      <td>3</td>\n",
       "      <td>11</td>\n",
       "      <td>-0.02</td>\n",
       "      <td>-109.44</td>\n",
       "      <td>-4.2</td>\n",
       "      <td>1.5</td>\n",
       "      <td>NaN</td>\n",
       "      <td>25.30</td>\n",
       "      <td>1980-03-11</td>\n",
       "    </tr>\n",
       "    <tr>\n",
       "      <th>2</th>\n",
       "      <td>10752</td>\n",
       "      <td>1980</td>\n",
       "      <td>8</td>\n",
       "      <td>27</td>\n",
       "      <td>0.00</td>\n",
       "      <td>-109.56</td>\n",
       "      <td>-3.8</td>\n",
       "      <td>3.7</td>\n",
       "      <td>NaN</td>\n",
       "      <td>22.36</td>\n",
       "      <td>1980-08-27</td>\n",
       "    </tr>\n",
       "    <tr>\n",
       "      <th>3</th>\n",
       "      <td>5289</td>\n",
       "      <td>1980</td>\n",
       "      <td>8</td>\n",
       "      <td>29</td>\n",
       "      <td>0.00</td>\n",
       "      <td>-109.56</td>\n",
       "      <td>-5.0</td>\n",
       "      <td>2.4</td>\n",
       "      <td>NaN</td>\n",
       "      <td>22.45</td>\n",
       "      <td>1980-08-29</td>\n",
       "    </tr>\n",
       "    <tr>\n",
       "      <th>4</th>\n",
       "      <td>2392</td>\n",
       "      <td>1980</td>\n",
       "      <td>8</td>\n",
       "      <td>31</td>\n",
       "      <td>0.00</td>\n",
       "      <td>-109.56</td>\n",
       "      <td>-6.2</td>\n",
       "      <td>5.1</td>\n",
       "      <td>NaN</td>\n",
       "      <td>23.12</td>\n",
       "      <td>1980-08-31</td>\n",
       "    </tr>\n",
       "  </tbody>\n",
       "</table>\n",
       "</div>"
      ],
      "text/plain": [
       "   Unnamed: 0  year  month  day  latitude  longitude  zon.winds  mer.winds  \\\n",
       "0        4951  1980      3    7     -0.02    -109.44       -6.8        0.7   \n",
       "1       16738  1980      3   11     -0.02    -109.44       -4.2        1.5   \n",
       "2       10752  1980      8   27      0.00    -109.56       -3.8        3.7   \n",
       "3        5289  1980      8   29      0.00    -109.56       -5.0        2.4   \n",
       "4        2392  1980      8   31      0.00    -109.56       -6.2        5.1   \n",
       "\n",
       "   humidity  air temp.       date  \n",
       "0       NaN      26.14 1980-03-07  \n",
       "1       NaN      25.30 1980-03-11  \n",
       "2       NaN      22.36 1980-08-27  \n",
       "3       NaN      22.45 1980-08-29  \n",
       "4       NaN      23.12 1980-08-31  "
      ]
     },
     "execution_count": 5,
     "metadata": {},
     "output_type": "execute_result"
    }
   ],
   "source": [
    "#sort the data chronologically\n",
    "df['date']=pd.to_datetime(df[['year','month','day']])\n",
    "df=df.sort_values(by='date').reset_index(drop=True)\n",
    "df.head()"
   ]
  },
  {
   "cell_type": "code",
   "execution_count": 6,
   "metadata": {},
   "outputs": [],
   "source": [
    "#add another feature indicating ellapsed time\n",
    "df = df.sort_values(by='date').reset_index(drop=True)\n",
    "df['time_elapsed'] = (df['date'] - df['date'].min()).dt.days\n",
    "df.drop(columns=['date'],inplace=True)"
   ]
  },
  {
   "cell_type": "code",
   "execution_count": 7,
   "metadata": {},
   "outputs": [
    {
     "name": "stderr",
     "output_type": "stream",
     "text": [
      "c:\\Users\\Dell\\anaconda3_original\\envs\\py310\\lib\\site-packages\\seaborn\\_oldcore.py:1119: FutureWarning: use_inf_as_na option is deprecated and will be removed in a future version. Convert inf values to NaN before operating instead.\n",
      "  with pd.option_context('mode.use_inf_as_na', True):\n"
     ]
    },
    {
     "data": {
      "image/png": "[encoded data removed]",
      "text/plain": [
       "<Figure size 1200x800 with 1 Axes>"
      ]
     },
     "metadata": {},
     "output_type": "display_data"
    }
   ],
   "source": [
    "plt.figure(figsize=(12,8))\n",
    "sns.histplot(x='time_elapsed',data=df,kde=True,stat='density')\n",
    "plt.xlabel('Time elapsed')\n",
    "plt.ylabel('Density')    \n",
    "plt.show()"
   ]
  }
 ],
 "metadata": {
  "kernelspec": {
   "display_name": "py310",
   "language": "python",
   "name": "python3"
  },
  "language_info": {
   "codemirror_mode": {
    "name": "ipython",
    "version": 3
   },
   "file_extension": ".py",
   "mimetype": "text/x-python",
   "name": "python",
   "nbconvert_exporter": "python",
   "pygments_lexer": "ipython3",
   "version": "3.10.13"
  }
 },
 "nbformat": 4,
 "nbformat_minor": 2
}
