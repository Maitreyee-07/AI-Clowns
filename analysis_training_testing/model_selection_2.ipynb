{
 "cells": [
  {
   "cell_type": "code",
   "execution_count": 154,
   "metadata": {},
   "outputs": [],
   "source": [
    "import pandas as pd\n",
    "from sklearn.pipeline import Pipeline\n",
    "import numpy as np\n",
    "import matplotlib.pyplot as plt\n",
    "import seaborn as sns\n",
    "from sklearn.compose import ColumnTransformer\n",
    "from sklearn.preprocessing import StandardScaler,FunctionTransformer,PowerTransformer,OneHotEncoder"
   ]
  },
  {
   "cell_type": "code",
   "execution_count": 155,
   "metadata": {},
   "outputs": [
    {
     "data": {
      "text/plain": [
       "<bound method IndexOpsMixin.value_counts of 0            0\n",
       "1            1\n",
       "2            2\n",
       "3            4\n",
       "4            5\n",
       "          ... \n",
       "104404    6142\n",
       "104405    6142\n",
       "104406    6142\n",
       "104407    6142\n",
       "104408    6142\n",
       "Name: time_elapsed, Length: 104409, dtype: int64>"
      ]
     },
     "execution_count": 155,
     "metadata": {},
     "output_type": "execute_result"
    }
   ],
   "source": [
    "df=pd.read_csv('D:/Competitions/SOI/AI-Clowns/training_datasets/updated.csv')\n",
    "df.head()\n",
    "df['time_elapsed'].value_counts"
   ]
  },
  {
   "cell_type": "code",
   "execution_count": 156,
   "metadata": {},
   "outputs": [
    {
     "data": {
      "text/plain": [
       "\"Scaler_pipeline=Pipeline(steps=[\\n    ('scaler',StandardScaler())\\n])\\n\\nlog_pipelie=Pipeline(steps=[\\n    ('log',FunctionTransformer(np.log1p,validate=True)),\\n    ('scaler',StandardScaler())\\n])\\n\\nboxcox_pipeline=Pipeline(steps=[\\n    ('boxcox',PowerTransformer(method='box-cox')),\\n    ('scaler',StandardScaler())\\n])\\n\\nyeojohnson_pipeline = Pipeline(steps=[\\n    ('yeojohnson', PowerTransformer(method='yeo-johnson')),\\n    ('scaler', StandardScaler())\\n])\\n\\npreprocessor=ColumnTransformer(transformers=[\\n    ('yeojohnso',yeojohnson_pipeline,['zon.winds']),\\n    ('log',log_pipelie,['air temp.']),\\n    ('scaler',Scaler_pipeline,(df.drop(columns=['zon.winds','air temp.','s.s.temp.'])).columns)\\n])\\n\\npreprocessed_data_1=preprocessor.fit_transform(df)\""
      ]
     },
     "execution_count": 156,
     "metadata": {},
     "output_type": "execute_result"
    }
   ],
   "source": [
    "'''Scaler_pipeline=Pipeline(steps=[\n",
    "    ('scaler',StandardScaler())\n",
    "])\n",
    "\n",
    "log_pipelie=Pipeline(steps=[\n",
    "    ('log',FunctionTransformer(np.log1p,validate=True)),\n",
    "    ('scaler',StandardScaler())\n",
    "])\n",
    "\n",
    "boxcox_pipeline=Pipeline(steps=[\n",
    "    ('boxcox',PowerTransformer(method='box-cox')),\n",
    "    ('scaler',StandardScaler())\n",
    "])\n",
    "\n",
    "yeojohnson_pipeline = Pipeline(steps=[\n",
    "    ('yeojohnson', PowerTransformer(method='yeo-johnson')),\n",
    "    ('scaler', StandardScaler())\n",
    "])\n",
    "\n",
    "preprocessor=ColumnTransformer(transformers=[\n",
    "    ('yeojohnso',yeojohnson_pipeline,['zon.winds']),\n",
    "    ('log',log_pipelie,['air temp.']),\n",
    "    ('scaler',Scaler_pipeline,(df.drop(columns=['zon.winds','air temp.','s.s.temp.'])).columns)\n",
    "])\n",
    "\n",
    "preprocessed_data_1=preprocessor.fit_transform(df)'''"
   ]
  },
  {
   "cell_type": "code",
   "execution_count": 157,
   "metadata": {},
   "outputs": [],
   "source": [
    "#Split the data but not randomly, do it in a sequential order\n",
    "\n",
    "X_train=df[df['time_elapsed']<=5900].drop(columns=['s.s.temp.'])\n",
    "X_test=df[df['time_elapsed']>5900].drop(columns=['s.s.temp.'])\n",
    "y_train=df[df['time_elapsed']<=5900]['s.s.temp.']\n",
    "y_test=df[df['time_elapsed']>5900]['s.s.temp.']\n"
   ]
  },
  {
   "cell_type": "code",
   "execution_count": 158,
   "metadata": {},
   "outputs": [],
   "source": [
    "# Transformations and Scaling\n",
    "\n",
    "yeojohnson_transformer = PowerTransformer(method='yeo-johnson')\n",
    "X_train['zon.winds'] = yeojohnson_transformer.fit_transform(X_train[['zon.winds']])\n",
    "X_test['zon.winds'] = yeojohnson_transformer.transform(X_test[['zon.winds']])\n",
    "\n",
    "'''log_transformer = FunctionTransformer(np.log1p, validate=True)\n",
    "X_train['air temp.'] = log_transformer.fit_transform(X_train[['air temp.']])\n",
    "X_test['air temp.'] = log_transformer.transform(X_test[['air temp.']])'''\n",
    "X_train['air temp.']=yeojohnson_transformer.fit_transform(X_train[['air temp.']])\n",
    "X_test['air temp.']=yeojohnson_transformer.transform(X_test[['air temp.']])\n",
    "\n",
    "\n",
    "X_train.drop(columns=['day','time_elapsed'],inplace=True)\n",
    "X_test.drop(columns=['day','time_elapsed',],inplace=True)\n",
    "\n",
    "scaler = StandardScaler()\n",
    "X_train = scaler.fit_transform(X_train)\n",
    "X_test = scaler.transform(X_test)\n",
    "\n"
   ]
  },
  {
   "cell_type": "code",
   "execution_count": 159,
   "metadata": {},
   "outputs": [
    {
     "name": "stdout",
     "output_type": "stream",
     "text": [
      "Fitting 5 folds for each of 27 candidates, totalling 135 fits\n",
      "XGBoost MSE: 0.21267189777471093\n",
      "XGBoost Best Parameters: {'learning_rate': 0.05, 'max_depth': 5, 'n_estimators': 400}\n"
     ]
    }
   ],
   "source": [
    "from sklearn.model_selection import TimeSeriesSplit, GridSearchCV\n",
    "from sklearn.metrics import mean_squared_error\n",
    "from xgboost import XGBRegressor\n",
    "\n",
    "\n",
    "# Define parameters for hyperparameter tuning\n",
    "xgb_param_grid = {'learning_rate': [0.01, 0.05, 0.1], 'max_depth': [3, 5, 7], 'n_estimators': [370, 400, 430]}\n",
    "\n",
    "\n",
    "# Perform hyperparameter tuning for XGBoost\n",
    "xgb_model = XGBRegressor()\n",
    "xgb_grid_search = GridSearchCV(estimator=xgb_model, param_grid=xgb_param_grid, cv=5, scoring='neg_mean_squared_error', verbose=1, n_jobs=-1)\n",
    "xgb_grid_search.fit(X_train, y_train)\n",
    "xgb_best_params = xgb_grid_search.best_params_\n",
    "\n",
    "\n",
    "\n",
    "# Evaluate models\n",
    "# Assuming X_test and y_test are available\n",
    "xgb_best_model = XGBRegressor(**xgb_best_params)\n",
    "xgb_best_model.fit(X_train, y_train)\n",
    "y_pred_xgb = xgb_best_model.predict(X_test)\n",
    "mse_xgb = mean_squared_error(y_test, y_pred_xgb)\n",
    "\n",
    "\n",
    "\n",
    "print(\"XGBoost MSE:\", mse_xgb)\n",
    "\n",
    "print(\"XGBoost Best Parameters:\", xgb_best_params)\n",
    "\n"
   ]
  },
  {
   "cell_type": "code",
   "execution_count": 160,
   "metadata": {},
   "outputs": [
    {
     "name": "stdout",
     "output_type": "stream",
     "text": [
      "R² Score xgb: 0.9632070922283311\n"
     ]
    }
   ],
   "source": [
    "from sklearn.metrics import r2_score\n",
    "r_squared_xgb = r2_score(y_test, y_pred_xgb)\n",
    "print(\"R² Score xgb:\", r_squared_xgb)\n"
   ]
  },
  {
   "cell_type": "code",
   "execution_count": 161,
   "metadata": {},
   "outputs": [
    {
     "data": {
      "text/html": [
       "<div>\n",
       "<style scoped>\n",
       "    .dataframe tbody tr th:only-of-type {\n",
       "        vertical-align: middle;\n",
       "    }\n",
       "\n",
       "    .dataframe tbody tr th {\n",
       "        vertical-align: top;\n",
       "    }\n",
       "\n",
       "    .dataframe thead th {\n",
       "        text-align: right;\n",
       "    }\n",
       "</style>\n",
       "<table border=\"1\" class=\"dataframe\">\n",
       "  <thead>\n",
       "    <tr style=\"text-align: right;\">\n",
       "      <th></th>\n",
       "      <th>y_test</th>\n",
       "      <th>y_pred</th>\n",
       "    </tr>\n",
       "  </thead>\n",
       "  <tbody>\n",
       "    <tr>\n",
       "      <th>93048</th>\n",
       "      <td>27.77</td>\n",
       "      <td>28.079226</td>\n",
       "    </tr>\n",
       "    <tr>\n",
       "      <th>93049</th>\n",
       "      <td>29.25</td>\n",
       "      <td>29.154629</td>\n",
       "    </tr>\n",
       "    <tr>\n",
       "      <th>93050</th>\n",
       "      <td>27.52</td>\n",
       "      <td>27.801105</td>\n",
       "    </tr>\n",
       "    <tr>\n",
       "      <th>93051</th>\n",
       "      <td>29.89</td>\n",
       "      <td>30.085695</td>\n",
       "    </tr>\n",
       "    <tr>\n",
       "      <th>93052</th>\n",
       "      <td>27.80</td>\n",
       "      <td>27.757889</td>\n",
       "    </tr>\n",
       "    <tr>\n",
       "      <th>93053</th>\n",
       "      <td>29.80</td>\n",
       "      <td>29.906174</td>\n",
       "    </tr>\n",
       "    <tr>\n",
       "      <th>93054</th>\n",
       "      <td>28.69</td>\n",
       "      <td>28.212770</td>\n",
       "    </tr>\n",
       "    <tr>\n",
       "      <th>93055</th>\n",
       "      <td>29.27</td>\n",
       "      <td>29.770378</td>\n",
       "    </tr>\n",
       "    <tr>\n",
       "      <th>93056</th>\n",
       "      <td>26.73</td>\n",
       "      <td>26.701807</td>\n",
       "    </tr>\n",
       "    <tr>\n",
       "      <th>93057</th>\n",
       "      <td>28.90</td>\n",
       "      <td>29.277826</td>\n",
       "    </tr>\n",
       "    <tr>\n",
       "      <th>93058</th>\n",
       "      <td>28.23</td>\n",
       "      <td>29.288355</td>\n",
       "    </tr>\n",
       "    <tr>\n",
       "      <th>93059</th>\n",
       "      <td>23.70</td>\n",
       "      <td>23.943062</td>\n",
       "    </tr>\n",
       "    <tr>\n",
       "      <th>93060</th>\n",
       "      <td>27.11</td>\n",
       "      <td>27.214001</td>\n",
       "    </tr>\n",
       "    <tr>\n",
       "      <th>93061</th>\n",
       "      <td>29.77</td>\n",
       "      <td>29.414988</td>\n",
       "    </tr>\n",
       "    <tr>\n",
       "      <th>93062</th>\n",
       "      <td>27.48</td>\n",
       "      <td>27.648197</td>\n",
       "    </tr>\n",
       "  </tbody>\n",
       "</table>\n",
       "</div>"
      ],
      "text/plain": [
       "       y_test     y_pred\n",
       "93048   27.77  28.079226\n",
       "93049   29.25  29.154629\n",
       "93050   27.52  27.801105\n",
       "93051   29.89  30.085695\n",
       "93052   27.80  27.757889\n",
       "93053   29.80  29.906174\n",
       "93054   28.69  28.212770\n",
       "93055   29.27  29.770378\n",
       "93056   26.73  26.701807\n",
       "93057   28.90  29.277826\n",
       "93058   28.23  29.288355\n",
       "93059   23.70  23.943062\n",
       "93060   27.11  27.214001\n",
       "93061   29.77  29.414988\n",
       "93062   27.48  27.648197"
      ]
     },
     "execution_count": 161,
     "metadata": {},
     "output_type": "execute_result"
    }
   ],
   "source": [
    "comparison = pd.DataFrame({'y_test': y_test, 'y_pred': y_pred_xgb})\n",
    "comparison.head(15)"
   ]
  },
  {
   "cell_type": "markdown",
   "metadata": {},
   "source": [
    "Our first model"
   ]
  },
  {
   "cell_type": "code",
   "execution_count": 163,
   "metadata": {},
   "outputs": [
    {
     "name": "stdout",
     "output_type": "stream",
     "text": [
      "Model trained and saved successfully using pickle.\n"
     ]
    }
   ],
   "source": [
    "import pickle\n",
    "with open('xgb_best_model.pkl', 'wb') as f:\n",
    "    pickle.dump(xgb_best_model, f)\n",
    "\n",
    "print(\"Model trained and saved successfully using pickle.\")"
   ]
  }
 ],
 "metadata": {
  "kernelspec": {
   "display_name": "py310",
   "language": "python",
   "name": "python3"
  },
  "language_info": {
   "codemirror_mode": {
    "name": "ipython",
    "version": 3
   },
   "file_extension": ".py",
   "mimetype": "text/x-python",
   "name": "python",
   "nbconvert_exporter": "python",
   "pygments_lexer": "ipython3",
   "version": "3.10.13"
  }
 },
 "nbformat": 4,
 "nbformat_minor": 2
}
